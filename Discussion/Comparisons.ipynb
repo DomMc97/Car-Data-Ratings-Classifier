{
  "nbformat": 4,
  "nbformat_minor": 0,
  "metadata": {
    "colab": {
      "name": "Comparisons.ipynb",
      "provenance": [],
      "authorship_tag": "ABX9TyMmM9WDxHKrfzan2R5qtYSv",
      "include_colab_link": true
    },
    "kernelspec": {
      "name": "python3",
      "display_name": "Python 3"
    }
  },
  "cells": [
    {
      "cell_type": "markdown",
      "metadata": {
        "id": "view-in-github",
        "colab_type": "text"
      },
      "source": [
        "<a href=\"https://colab.research.google.com/github/DomMc97/Car_Data/blob/master/Discussion/Comparisons.ipynb\" target=\"_parent\"><img src=\"https://colab.research.google.com/assets/colab-badge.svg\" alt=\"Open In Colab\"/></a>"
      ]
    },
    {
      "cell_type": "markdown",
      "metadata": {
        "id": "GiB16KcCGA5H"
      },
      "source": [
        "# Classification of Car Data\n",
        "\n",
        "A comparison of the classification of the quality of a car from a set of descriptors using Random Forest classification, Support Vector Machines and Neural Networks.\n",
        "\n",
        "The data set contains a record of the rating of a series of cars by a car dealer into the following categories: 'unacceptable', 'acceptable', 'good', or 'very good' this is the target. The data set also contains the following descriptors for each car:\n",
        "\n",
        "* buying: buying price\n",
        "* maint: price of the maintenance\n",
        "* doors: number of doors\n",
        "* persons: capacity in terms of persons to carry\n",
        "* lug_boot: the size of luggage boot\n",
        "* safety: estimated safety of the car\n",
        "\n",
        "---"
      ]
    },
    {
      "cell_type": "markdown",
      "metadata": {
        "id": "BlZOQCaF2Ccw"
      },
      "source": [
        "## Set Up"
      ]
    },
    {
      "cell_type": "markdown",
      "metadata": {
        "id": "n4bnJy2g2GQf"
      },
      "source": [
        "Import Libraries"
      ]
    },
    {
      "cell_type": "code",
      "metadata": {
        "id": "H_iqQIXRzTmq"
      },
      "source": [
        "# scientific library\n",
        "import numpy as np\n",
        "from scipy.stats import mode\n",
        "\n",
        "# data analytics library\n",
        "import pandas as pd\n",
        "\n",
        "# pytorch functions\n",
        "from torch import from_numpy\n",
        "import torch.nn as nn\n",
        "import torch.nn.functional as F\n",
        "\n",
        "from sklearn import metrics\n",
        "\n",
        "# plotting libraries\n",
        "import matplotlib.pyplot as plt\n",
        "import seaborn as sns\n",
        "sns.set() #sets design of figures\n",
        "\n",
        "# libraries for saving/loading data\n",
        "import pickle\n",
        "from google.colab import drive"
      ],
      "execution_count": 17,
      "outputs": []
    },
    {
      "cell_type": "code",
      "metadata": {
        "id": "jk-AxfwWP5vG"
      },
      "source": [
        "%%capture\n",
        "# installs skorch\n",
        "! [ ! -z \"$COLAB_GPU\" ] && pip install torch skorch"
      ],
      "execution_count": 18,
      "outputs": []
    },
    {
      "cell_type": "markdown",
      "metadata": {
        "id": "JGqzsKB1B2RQ"
      },
      "source": [
        "Mount Drive."
      ]
    },
    {
      "cell_type": "code",
      "metadata": {
        "id": "D5BPjj-BF6Nm",
        "outputId": "556a6a95-92cf-42b6-af88-28721698753b",
        "colab": {
          "base_uri": "https://localhost:8080/",
          "height": 35
        }
      },
      "source": [
        "# mount drive\n",
        "drive.mount('/content/drive')\n",
        "\n",
        "# root of all file paths used in notebook\n",
        "root = '/content/drive/My Drive/Methods for Data Science/CW2/Data/'"
      ],
      "execution_count": 19,
      "outputs": [
        {
          "output_type": "stream",
          "text": [
            "Drive already mounted at /content/drive; to attempt to forcibly remount, call drive.mount(\"/content/drive\", force_remount=True).\n"
          ],
          "name": "stdout"
        }
      ]
    },
    {
      "cell_type": "markdown",
      "metadata": {
        "id": "oIzeA6phGjqm"
      },
      "source": [
        "Importation of processed data."
      ]
    },
    {
      "cell_type": "code",
      "metadata": {
        "id": "SJ_a_LQMGnBv"
      },
      "source": [
        "# upload files\n",
        "X_train = np.load(root + 'X_train.npy')\n",
        "y_train = np.load(root + 'y_train.npy')\n",
        "X_test = np.load(root + 'X_test.npy')\n",
        "y_test = np.load(root + 'y_test.npy')"
      ],
      "execution_count": 20,
      "outputs": []
    },
    {
      "cell_type": "code",
      "metadata": {
        "id": "mdsMdwilTGS4"
      },
      "source": [
        "# convert X_test to a tensor\n",
        "t_X_test = from_numpy(X_test).float()\n",
        "\n",
        "# convert y_trest to a tensor\n",
        "t_y_test = from_numpy(y_test).long()"
      ],
      "execution_count": 21,
      "outputs": []
    },
    {
      "cell_type": "markdown",
      "metadata": {
        "id": "-zSU9ctQDX-6"
      },
      "source": [
        "Importation of models."
      ]
    },
    {
      "cell_type": "code",
      "metadata": {
        "id": "ggs2LkQfDVzf"
      },
      "source": [
        "# load RF model\n",
        "RF = pickle.load(open(root + 'RF.sav', 'rb'))\n",
        "\n",
        "# load RBF SVM model\n",
        "SVM = pickle.load(open(root + 'RBF_SVM.sav', 'rb'))\n",
        "\n",
        "class Drop_NN(nn.Module):\n",
        "  # define hidden layers with relu activation function\n",
        "  def __init__(self, dr=0.5, init_run=False):\n",
        "        super().__init__()\n",
        "        # input of 6 descriptors to hidden layer weights\n",
        "        self.W1 = nn.Linear(6, 200)\n",
        "        # a precusor to hidden layer which performs a dropout with rate dr\n",
        "        self.dropout = nn.Dropout(p=dr)\n",
        "        # hidden layer to hidden layer weights\n",
        "        self.W2 = nn.Linear(200, 200)\n",
        "        # hidden layer to 4 multi-class outputs\n",
        "        self.W3 = nn.Linear(200, 4)\n",
        "        # initilaise weights for consistency\n",
        "        if init_run:\n",
        "            save(self.state_dict(), root + 'model_params.sav')\n",
        "        else:\n",
        "            self.load_state_dict(load(root + 'model_params.sav'))\n",
        "\n",
        "  # forward pass through network\n",
        "  def forward(self, x):\n",
        "        out = F.relu(self.W1(x))\n",
        "        out = self.dropout(out)\n",
        "        out = F.relu(self.W2(out))\n",
        "        out = F.relu(self.W3(out))\n",
        "        return out\n",
        "\n",
        "# load NN model\n",
        "NN = pickle.load(open(root + 'NN.sav', 'rb'))"
      ],
      "execution_count": 22,
      "outputs": []
    },
    {
      "cell_type": "markdown",
      "metadata": {
        "id": "ej4zwaQZJVOQ"
      },
      "source": [
        "## Performance\n"
      ]
    },
    {
      "cell_type": "markdown",
      "metadata": {
        "id": "-q3xo7LluXZJ"
      },
      "source": [
        "A function to get the accuracy, precision, recall, f1 score and confusion matrix on the test data set. Since the data set is multiclass precision etc. is the mean of the precision for each label."
      ]
    },
    {
      "cell_type": "code",
      "metadata": {
        "id": "zBzGKNhvLsbi"
      },
      "source": [
        "def quality(X, y, model):\n",
        "    \"\"\"\n",
        "    Function to get the accuracy, precision, recall, f1 score and confusion \n",
        "    matrix of the predictions on a model on the data set.\n",
        "    Inputs:\n",
        "        X: Predictor dataset.\n",
        "        y: Target datset.\n",
        "        model: Fitted classification model. \n",
        "    Outputs:\n",
        "        score: dict of scores in order in description.\n",
        "    \"\"\"\n",
        "    #makes predictions on training set\n",
        "    pred = model.predict(X)\n",
        "\n",
        "    # dict of scores\n",
        "    scores = {}\n",
        "\n",
        "    # accuracy metrics\n",
        "    scores['Accuracy'] = metrics.accuracy_score(y, pred)\n",
        "    scores['Precision'] = metrics.precision_score(y, pred, average='macro')\n",
        "    scores['Recall Score'] = metrics.recall_score(y, pred, average='macro')\n",
        "    scores['F1 Score'] = metrics.f1_score(y, pred, average='macro')\n",
        "    scores['mat'] = metrics.confusion_matrix(y, pred)\n",
        "\n",
        "    return scores"
      ],
      "execution_count": 23,
      "outputs": []
    },
    {
      "cell_type": "markdown",
      "metadata": {
        "id": "y7O0jEmsOX1L"
      },
      "source": [
        "Perfomance dictionary of models."
      ]
    },
    {
      "cell_type": "code",
      "metadata": {
        "id": "6ViOGYUQOcO5",
        "outputId": "f4d65ba7-94d7-4141-f78a-fca802954052",
        "colab": {
          "base_uri": "https://localhost:8080/",
          "height": 280
        }
      },
      "source": [
        "# RF\n",
        "RF_scores = quality(X_test, y_test, RF)\n",
        "print(RF_scores)\n",
        "# SVM\n",
        "SVM_scores = quality(X_test, y_test, SVM)\n",
        "print(SVM_scores)\n",
        "# NN\n",
        "NN_scores = quality(t_X_test, t_y_test, NN)\n",
        "print(NN_scores)"
      ],
      "execution_count": 24,
      "outputs": [
        {
          "output_type": "stream",
          "text": [
            "{'Accuracy': 0.5262096774193549, 'Precision': 0.47763712706950817, 'Recall Score': 0.4746917668120749, 'F1 Score': 0.47363480757572796, 'mat': array([[292,  38,  44,  38],\n",
            "       [ 22,  66,  52,  48],\n",
            "       [ 18,  55,  80,  51],\n",
            "       [ 13,  40,  51,  84]])}\n",
            "{'Accuracy': 0.5120967741935484, 'Precision': 0.486886701847219, 'Recall Score': 0.4716463945627828, 'F1 Score': 0.4687610687610688, 'mat': array([[267,  45,  62,  38],\n",
            "       [ 11,  59,  72,  46],\n",
            "       [  7,  38, 104,  55],\n",
            "       [  5,  40,  65,  78]])}\n",
            "{'Accuracy': 0.4808467741935484, 'Precision': 0.354181239810728, 'Recall Score': 0.4316887310594554, 'F1 Score': 0.3747556349278493, 'mat': array([[269,   0,  40, 103],\n",
            "       [ 45,   0,  45,  98],\n",
            "       [ 42,   0,  78,  84],\n",
            "       [ 19,   0,  39, 130]])}\n"
          ],
          "name": "stdout"
        },
        {
          "output_type": "stream",
          "text": [
            "/usr/local/lib/python3.6/dist-packages/sklearn/metrics/_classification.py:1272: UndefinedMetricWarning: Precision is ill-defined and being set to 0.0 in labels with no predicted samples. Use `zero_division` parameter to control this behavior.\n",
            "  _warn_prf(average, modifier, msg_start, len(result))\n"
          ],
          "name": "stderr"
        }
      ]
    },
    {
      "cell_type": "markdown",
      "metadata": {
        "id": "12rgcdToUZMM"
      },
      "source": [
        "Display scores."
      ]
    },
    {
      "cell_type": "code",
      "metadata": {
        "id": "N9FBEFvjTkN9",
        "outputId": "83575a8f-3ace-4264-ac98-15446b716a24",
        "colab": {
          "base_uri": "https://localhost:8080/",
          "height": 467
        }
      },
      "source": [
        "# creates figure\n",
        "fig, axs = plt.subplots(1, 4, figsize=(12, 6))\n",
        "\n",
        "# creates figure title\n",
        "plt.suptitle('Performance of Models (Fig.1).', fontsize='15', y=1.04)\n",
        "\n",
        "# list of models \n",
        "models = ['RF', 'SVM', 'NN']\n",
        "\n",
        "# pos \n",
        "pos = [0, 1, 2]\n",
        "\n",
        "for ax, key in zip(axs, ['Accuracy','Precision','Recall Score', 'F1 Score']):\n",
        "    # sets title\n",
        "    ax.set_title(key + ' of Model')\n",
        "    \n",
        "    # sets y_axes titles\n",
        "    ax.set_ylabel(key)\n",
        "\n",
        "    # source data\n",
        "    data = [RF_scores[key], SVM_scores[key], NN_scores[key]]\n",
        "\n",
        "    #  make plot\n",
        "    ax.bar(pos, data)\n",
        "    \n",
        "    # set tick labels\n",
        "    ax.set_xticks(pos)\n",
        "    ax.set_xticklabels(models)\n",
        "\n",
        "# display\n",
        "plt.tight_layout()\n",
        "plt.show()"
      ],
      "execution_count": 25,
      "outputs": [
        {
          "output_type": "display_data",
          "data": {
            "image/png": "[encoded data removed]",
            "text/plain": [
              "<Figure size 864x432 with 4 Axes>"
            ]
          },
          "metadata": {
            "tags": []
          }
        }
      ]
    },
    {
      "cell_type": "markdown",
      "metadata": {
        "id": "loEFLgS7XTh6"
      },
      "source": [
        "Confusion matricies."
      ]
    },
    {
      "cell_type": "code",
      "metadata": {
        "id": "WisTp0SxXXL3",
        "outputId": "b15cfe82-36ef-48b7-af40-145214a20f06",
        "colab": {
          "base_uri": "https://localhost:8080/",
          "height": 446
        }
      },
      "source": [
        "# creates figure\n",
        "fig, axs = plt.subplots(1, 3, figsize=(12, 6))\n",
        "\n",
        "# creates figure title\n",
        "plt.suptitle('Confusion Matricies of Models (Fig.2).', fontsize='15', y=1.04)\n",
        "\n",
        "# matricies\n",
        "mats = [RF_scores['mat'], SVM_scores['mat'], NN_scores['mat']]\n",
        "\n",
        "for ax, model, mat in zip(axs, models, mats):\n",
        "    # sets title\n",
        "    ax.set_title('Confusion Matrix of ' + model)\n",
        "\n",
        "    # heatmap\n",
        "    sns.heatmap(mat, annot=True,fmt='.0f', ax=ax)\n",
        "\n",
        "plt.show()"
      ],
      "execution_count": 26,
      "outputs": [
        {
          "output_type": "display_data",
          "data": {
            "image/png": "[encoded data removed]",
            "text/plain": [
              "<Figure size 864x432 with 6 Axes>"
            ]
          },
          "metadata": {
            "tags": []
          }
        }
      ]
    },
    {
      "cell_type": "markdown",
      "metadata": {
        "id": "4oD6nSLrhg9w"
      },
      "source": [
        "## Exploration of the Data Sets"
      ]
    },
    {
      "cell_type": "markdown",
      "metadata": {
        "id": "bHFo4x9wmc2T"
      },
      "source": [
        "A general observation which can explain the fairly low accuracy of the models on the training data is that for the same unique set of descriptors we get different ratings."
      ]
    },
    {
      "cell_type": "code",
      "metadata": {
        "id": "YgR-3ODLbsHe",
        "outputId": "35a5172f-f336-4985-f8fa-340168e83402",
        "colab": {
          "base_uri": "https://localhost:8080/",
          "height": 355
        }
      },
      "source": [
        "# dataframe of train\n",
        "df_train = pd.DataFrame(np.hstack((X_train, y_train.reshape(len(y_train), 1))))\n",
        "\n",
        "# df where the target col is a vector of targets for the same descriptors.\n",
        "group_train = df_train.groupby([0,1,2,3,4,5])[6].apply(list).reset_index()\n",
        "\n",
        "# display format\n",
        "group_train.tail(10)"
      ],
      "execution_count": 27,
      "outputs": [
        {
          "output_type": "execute_result",
          "data": {
            "text/html": [
              "<div>\n",
              "<style scoped>\n",
              "    .dataframe tbody tr th:only-of-type {\n",
              "        vertical-align: middle;\n",
              "    }\n",
              "\n",
              "    .dataframe tbody tr th {\n",
              "        vertical-align: top;\n",
              "    }\n",
              "\n",
              "    .dataframe thead th {\n",
              "        text-align: right;\n",
              "    }\n",
              "</style>\n",
              "<table border=\"1\" class=\"dataframe\">\n",
              "  <thead>\n",
              "    <tr style=\"text-align: right;\">\n",
              "      <th></th>\n",
              "      <th>0</th>\n",
              "      <th>1</th>\n",
              "      <th>2</th>\n",
              "      <th>3</th>\n",
              "      <th>4</th>\n",
              "      <th>5</th>\n",
              "      <th>6</th>\n",
              "    </tr>\n",
              "  </thead>\n",
              "  <tbody>\n",
              "    <tr>\n",
              "      <th>1190</th>\n",
              "      <td>1.509864</td>\n",
              "      <td>1.716005</td>\n",
              "      <td>1.289805</td>\n",
              "      <td>-0.428909</td>\n",
              "      <td>-0.190199</td>\n",
              "      <td>0.853933</td>\n",
              "      <td>[0.0, 1.0, 2.0, 3.0]</td>\n",
              "    </tr>\n",
              "    <tr>\n",
              "      <th>1191</th>\n",
              "      <td>1.509864</td>\n",
              "      <td>1.716005</td>\n",
              "      <td>1.289805</td>\n",
              "      <td>-0.428909</td>\n",
              "      <td>1.088411</td>\n",
              "      <td>-1.942747</td>\n",
              "      <td>[0.0, 1.0, 2.0]</td>\n",
              "    </tr>\n",
              "    <tr>\n",
              "      <th>1192</th>\n",
              "      <td>1.509864</td>\n",
              "      <td>1.716005</td>\n",
              "      <td>1.289805</td>\n",
              "      <td>-0.428909</td>\n",
              "      <td>1.088411</td>\n",
              "      <td>-0.544407</td>\n",
              "      <td>[0.0]</td>\n",
              "    </tr>\n",
              "    <tr>\n",
              "      <th>1193</th>\n",
              "      <td>1.509864</td>\n",
              "      <td>1.716005</td>\n",
              "      <td>1.289805</td>\n",
              "      <td>0.992357</td>\n",
              "      <td>-1.468808</td>\n",
              "      <td>-1.942747</td>\n",
              "      <td>[0.0, 1.0, 1.0, 1.0, 2.0, 2.0]</td>\n",
              "    </tr>\n",
              "    <tr>\n",
              "      <th>1194</th>\n",
              "      <td>1.509864</td>\n",
              "      <td>1.716005</td>\n",
              "      <td>1.289805</td>\n",
              "      <td>0.992357</td>\n",
              "      <td>-1.468808</td>\n",
              "      <td>-0.544407</td>\n",
              "      <td>[0.0, 2.0, 2.0, 3.0, 3.0]</td>\n",
              "    </tr>\n",
              "    <tr>\n",
              "      <th>1195</th>\n",
              "      <td>1.509864</td>\n",
              "      <td>1.716005</td>\n",
              "      <td>1.289805</td>\n",
              "      <td>0.992357</td>\n",
              "      <td>-1.468808</td>\n",
              "      <td>0.853933</td>\n",
              "      <td>[0.0, 1.0]</td>\n",
              "    </tr>\n",
              "    <tr>\n",
              "      <th>1196</th>\n",
              "      <td>1.509864</td>\n",
              "      <td>1.716005</td>\n",
              "      <td>1.289805</td>\n",
              "      <td>0.992357</td>\n",
              "      <td>-0.190199</td>\n",
              "      <td>-1.942747</td>\n",
              "      <td>[0.0, 1.0, 3.0, 3.0]</td>\n",
              "    </tr>\n",
              "    <tr>\n",
              "      <th>1197</th>\n",
              "      <td>1.509864</td>\n",
              "      <td>1.716005</td>\n",
              "      <td>1.289805</td>\n",
              "      <td>0.992357</td>\n",
              "      <td>-0.190199</td>\n",
              "      <td>-0.544407</td>\n",
              "      <td>[0.0, 2.0, 3.0, 3.0]</td>\n",
              "    </tr>\n",
              "    <tr>\n",
              "      <th>1198</th>\n",
              "      <td>1.509864</td>\n",
              "      <td>1.716005</td>\n",
              "      <td>1.289805</td>\n",
              "      <td>0.992357</td>\n",
              "      <td>-0.190199</td>\n",
              "      <td>0.853933</td>\n",
              "      <td>[0.0, 1.0, 3.0, 3.0]</td>\n",
              "    </tr>\n",
              "    <tr>\n",
              "      <th>1199</th>\n",
              "      <td>1.509864</td>\n",
              "      <td>1.716005</td>\n",
              "      <td>1.289805</td>\n",
              "      <td>0.992357</td>\n",
              "      <td>1.088411</td>\n",
              "      <td>-1.942747</td>\n",
              "      <td>[0.0, 1.0, 1.0, 2.0, 2.0, 2.0, 3.0, 3.0]</td>\n",
              "    </tr>\n",
              "  </tbody>\n",
              "</table>\n",
              "</div>"
            ],
            "text/plain": [
              "             0         1  ...         5                                         6\n",
              "1190  1.509864  1.716005  ...  0.853933                      [0.0, 1.0, 2.0, 3.0]\n",
              "1191  1.509864  1.716005  ... -1.942747                           [0.0, 1.0, 2.0]\n",
              "1192  1.509864  1.716005  ... -0.544407                                     [0.0]\n",
              "1193  1.509864  1.716005  ... -1.942747            [0.0, 1.0, 1.0, 1.0, 2.0, 2.0]\n",
              "1194  1.509864  1.716005  ... -0.544407                 [0.0, 2.0, 2.0, 3.0, 3.0]\n",
              "1195  1.509864  1.716005  ...  0.853933                                [0.0, 1.0]\n",
              "1196  1.509864  1.716005  ... -1.942747                      [0.0, 1.0, 3.0, 3.0]\n",
              "1197  1.509864  1.716005  ... -0.544407                      [0.0, 2.0, 3.0, 3.0]\n",
              "1198  1.509864  1.716005  ...  0.853933                      [0.0, 1.0, 3.0, 3.0]\n",
              "1199  1.509864  1.716005  ... -1.942747  [0.0, 1.0, 1.0, 2.0, 2.0, 2.0, 3.0, 3.0]\n",
              "\n",
              "[10 rows x 7 columns]"
            ]
          },
          "metadata": {
            "tags": []
          },
          "execution_count": 27
        }
      ]
    },
    {
      "cell_type": "markdown",
      "metadata": {
        "id": "fTEJpU8ceihe"
      },
      "source": [
        "This puts a theoretical limit on the maximum training accuracy, which would be maximised when the prediction is made the modal value for each descriptor set."
      ]
    },
    {
      "cell_type": "code",
      "metadata": {
        "id": "YCzXSW4ve2_S",
        "outputId": "c66557b5-1069-4185-fb32-b526be1c768e",
        "colab": {
          "base_uri": "https://localhost:8080/",
          "height": 35
        }
      },
      "source": [
        "def mode_count(row):\n",
        "    \"\"\"\n",
        "    Gets the count of the mode for a target vector.\n",
        "    \"\"\"\n",
        "\n",
        "    # target vector\n",
        "    vec = row[6]\n",
        "\n",
        "    # count of the modal predicted class\n",
        "    _, count =  mode(vec)\n",
        "    \n",
        "    return count[0]\n",
        "\n",
        "# get counts\n",
        "group_train['count'] = group_train.apply(lambda row: mode_count(row),axis=1)\n",
        "\n",
        "# maximum accuracy\n",
        "max_acc = 100*group_train['count'].sum()/len(y_train)\n",
        "\n",
        "# print result\n",
        "print('The maximum accuaracy on the training set is %.2f%%'%max_acc)"
      ],
      "execution_count": 28,
      "outputs": [
        {
          "output_type": "stream",
          "text": [
            "The maximum accuaracy on the training set is 52.65%\n"
          ],
          "name": "stdout"
        }
      ]
    },
    {
      "cell_type": "markdown",
      "metadata": {
        "id": "SgQJ9ewbomQH"
      },
      "source": [
        "This is also a feature of the test set."
      ]
    },
    {
      "cell_type": "code",
      "metadata": {
        "id": "0bo9D0_1orSp",
        "outputId": "2876878a-3144-4fd1-c05e-ba10fc826196",
        "colab": {
          "base_uri": "https://localhost:8080/",
          "height": 35
        }
      },
      "source": [
        "# dataframe of test\n",
        "df_test = pd.DataFrame(np.hstack((X_test, y_test.reshape(len(y_test), 1))))\n",
        "\n",
        "# df where the target col is a vector of targets for the same descriptors.\n",
        "group_test = df_test.groupby([0,1,2,3,4,5])[6].apply(list).reset_index()\n",
        "\n",
        "# get counts\n",
        "group_test['count'] = group_test.apply(lambda row: mode_count(row),axis=1)\n",
        "\n",
        "# maximum accuracy\n",
        "max_acc = 100*group_test['count'].sum()/len(y_test)\n",
        "\n",
        "# print result\n",
        "print('The maximum accuaracy on the test set is %.2f%%'%max_acc)"
      ],
      "execution_count": 29,
      "outputs": [
        {
          "output_type": "stream",
          "text": [
            "The maximum accuaracy on the test set is 65.52%\n"
          ],
          "name": "stdout"
        }
      ]
    },
    {
      "cell_type": "markdown",
      "metadata": {
        "id": "OzYJaZL_qVbR"
      },
      "source": [
        "We see however that the theoretical accuracy limit of the test data set is higher than that of training data set. I will conclude the exploration with the finding of the distribution of results in the test data set. "
      ]
    },
    {
      "cell_type": "code",
      "metadata": {
        "id": "iXJmvhE6iMWL",
        "outputId": "bc325102-2db0-4806-8009-f6be9ba3002f",
        "colab": {
          "base_uri": "https://localhost:8080/",
          "height": 87
        }
      },
      "source": [
        "# count of unique values\n",
        "unique, counts = np.unique(y_test, return_counts=True)\n",
        "\n",
        "# print results\n",
        "for val, count in zip(unique, counts):\n",
        "    print('Value: ',val,'\\t Count:', count)"
      ],
      "execution_count": 30,
      "outputs": [
        {
          "output_type": "stream",
          "text": [
            "Value:  0 \t Count: 412\n",
            "Value:  1 \t Count: 188\n",
            "Value:  2 \t Count: 204\n",
            "Value:  3 \t Count: 188\n"
          ],
          "name": "stdout"
        }
      ]
    },
    {
      "cell_type": "markdown",
      "metadata": {
        "id": "27VUodgUl3Oa"
      },
      "source": [
        "The test set can be seen to be unbalanced in terms of predictors with a biased towards the amount of 0 predictions.\n"
      ]
    },
    {
      "cell_type": "markdown",
      "metadata": {
        "id": "Bt8Xgyq5uLhf"
      },
      "source": [
        "## Discussion\n",
        "\n",
        "The pattern accuracy of the models on the training data set was continued on the application of the test data set. The optimised Random Forest (RF) model was shown to have the highest accuracy on both data sets of 41.71% and 52.62% respectively. The second highest accuracy was for the optimised  Support Vector Machine (SVM) with a Radial Basis Function (RBF) kernel which had a training accuracy of 41.12% and a test accuracy of 51.21%. The lowest accuracy for both training and test data sets was for the Neural Network (NN) witch accuracy of 34.84% and 48.08% respectively.\n",
        "\n",
        "The first observation from this is that the accuracy seems to be much higher on the test data set for all the models than on the training data set. There are 2 main reasons for this pattern of improved performance on generalisation. The key factor is due to the presence of contradictory samples in the data sets: samples which have the same descriptors but different targets. There is a higher density of these contradictory points in the training data set compared to the test data set which can be interpterd from it's maximum theoretical accuracy being 13% lower. This inherently restricts the accuracy of the training data set. Another possible reason is the imbalences of the test data set which has a high proportion of ratings of 0 for which the models have a tendency to over predict. \n",
        "\n",
        "In general the pattern of the RF model being best is true for all metrics expect for precision for which the SVM has the strongest performance. The reason that the RF and SVM models massively outperform the NN is predominatly due to the batch learning of NN's. The batch learing is conversely affected by the contradictory samples. When the data set is split into batches contradictory samples will be evelnly distributed throughout the batches therefore weights will constantly be adjusted after iterations for different optimum weight loss landscapes depending on which contradictory sample it contains.\n",
        "\n",
        "The reason that the RF model outpeforms SVM is firstly due to the suitability of the RF models for data sets which have low correlation between descriptors which I have showns is true for the training data set. Another reason for it's suitability is that RF averaging property over many decision tress is an advantageous feature for classification in which the training data set has contradictory samples. Naturally modal targets will become the modal prediction. "
      ]
    }
  ]
}